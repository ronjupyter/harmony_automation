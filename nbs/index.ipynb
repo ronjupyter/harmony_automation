{
 "cells": [
  {
   "cell_type": "markdown",
   "metadata": {},
   "source": [
    "# harmony_automation\n"
   ]
  },
  {
   "cell_type": "markdown",
   "metadata": {},
   "source": [
    "\n",
    "As I am the main person responsible for data updates for Sears, there can be upwards of 100+ tickets/logs to process on a bi-weekly basis. Some logs can be closed after the update process, while others need to be re-assigned for further processing. \n",
    "\n",
    "The update process has been streamlined to the point that updates can be easily and quickly completed in bulk/batches. Manually closing and re-assigning up to 100+ logs at a time proved to be a tedious hassle, so I created some scripts to automate the process using [Selenium](https://www.selenium.dev/).    "
   ]
  }
 ],
 "metadata": {
  "kernelspec": {
   "display_name": "python3",
   "language": "python",
   "name": "python3"
  }
 },
 "nbformat": 4,
 "nbformat_minor": 4
}
