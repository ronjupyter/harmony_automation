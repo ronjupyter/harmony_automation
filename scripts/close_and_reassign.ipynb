{
 "cells": [
  {
   "cell_type": "markdown",
   "metadata": {},
   "source": [
    "## init"
   ]
  },
  {
   "cell_type": "code",
   "execution_count": null,
   "metadata": {},
   "outputs": [],
   "source": [
    "import time\n",
    "\n",
    "from icecream import ic\n",
    "from loguru import logger as lg\n",
    "\n",
    "from harmony_automation import core as ha\n",
    "\n",
    "ha.login()"
   ]
  },
  {
   "cell_type": "markdown",
   "metadata": {},
   "source": [
    "## load dat"
   ]
  },
  {
   "cell_type": "code",
   "execution_count": null,
   "metadata": {},
   "outputs": [],
   "source": [
    "df = ha.return_data()\n",
    "m = df.ticket_num.isna()\n",
    "assert df[m].shape[0] == 0, \"Missing ticket numbers in data\""
   ]
  },
  {
   "cell_type": "markdown",
   "metadata": {},
   "source": [
    "## close logs"
   ]
  },
  {
   "cell_type": "code",
   "execution_count": null,
   "metadata": {},
   "outputs": [],
   "source": [
    "# filter for only logs to close\n",
    "m = df[\"log_action\"].str.strip().str.lower() == \"n\"\n",
    "logs_to_close = df[m].copy()\n",
    "logs_to_close = [str(x) for x in logs_to_close.ticket_num.tolist()]\n",
    "ic(len(logs_to_close))\n",
    "completed_list = []"
   ]
  },
  {
   "cell_type": "code",
   "execution_count": null,
   "metadata": {},
   "outputs": [],
   "source": [
    "for i in range(len(logs_to_close)):\n",
    "    ticket_num = logs_to_close[i]\n",
    "\n",
    "    ic(i)\n",
    "    ic(ticket_num)\n",
    "    remaining = len(logs_to_close) - (i + 1)\n",
    "    ic(remaining)\n",
    "\n",
    "    if ticket_num not in completed_list:\n",
    "        ha.search_ticket_num(ticket_num)\n",
    "        ha.view_log()\n",
    "        ha.click_edit_log()\n",
    "        ha.edit_res()\n",
    "        ha.submit_res()\n",
    "        time.sleep(0.5)\n",
    "        completed_list.append(ticket_num)\n",
    "        lg.info(f\"closed {ticket_num}\")"
   ]
  },
  {
   "cell_type": "markdown",
   "metadata": {},
   "source": [
    "## re-assign"
   ]
  },
  {
   "cell_type": "code",
   "execution_count": null,
   "metadata": {},
   "outputs": [],
   "source": [
    "# filter for only logs to re-assign\n",
    "m = df[\"log_action\"].str.strip().str.lower() != \"n\"\n",
    "logs_to_reassign = df[m].copy()\n",
    "logs_to_reassign = logs_to_reassign.reset_index(drop=True).copy()\n",
    "ic(len(logs_to_reassign))\n",
    "reassigned_list = []"
   ]
  },
  {
   "cell_type": "code",
   "execution_count": null,
   "metadata": {},
   "outputs": [],
   "source": [
    "for i in range(len(logs_to_reassign)):\n",
    "    ticket_num = str(logs_to_reassign.loc[i][\"ticket_num\"])\n",
    "    note = str(logs_to_reassign.loc[i][\"log_action\"])\n",
    "\n",
    "    ic(i)\n",
    "    ic(ticket_num)\n",
    "    remaining = len(logs_to_reassign) - (i + 1)\n",
    "    ic(remaining)\n",
    "\n",
    "    if ticket_num not in reassigned_list:\n",
    "        ha.search_ticket_num(ticket_num)\n",
    "        ha.reassign_log(note)\n",
    "        time.sleep(1.8)\n",
    "        reassigned_list.append(ticket_num)\n",
    "        lg.info(f\"re-assigned {ticket_num} w/ note: {note}\")"
   ]
  },
  {
   "cell_type": "code",
   "execution_count": null,
   "metadata": {},
   "outputs": [],
   "source": [
    "ha.driver.quit()"
   ]
  },
  {
   "cell_type": "code",
   "execution_count": null,
   "metadata": {},
   "outputs": [],
   "source": []
  },
  {
   "cell_type": "code",
   "execution_count": null,
   "metadata": {},
   "outputs": [],
   "source": []
  },
  {
   "cell_type": "code",
   "execution_count": null,
   "metadata": {},
   "outputs": [],
   "source": []
  }
 ],
 "metadata": {
  "kernelspec": {
   "display_name": "py39",
   "language": "python",
   "name": "python3"
  },
  "language_info": {
   "codemirror_mode": {
    "name": "ipython",
    "version": 3
   },
   "file_extension": ".py",
   "mimetype": "text/x-python",
   "name": "python",
   "nbconvert_exporter": "python",
   "pygments_lexer": "ipython3",
   "version": "3.9.7"
  }
 },
 "nbformat": 4,
 "nbformat_minor": 2
}
