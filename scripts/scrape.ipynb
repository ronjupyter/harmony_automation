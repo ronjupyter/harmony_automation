{
 "cells": [
  {
   "cell_type": "markdown",
   "metadata": {},
   "source": [
    "## init"
   ]
  },
  {
   "cell_type": "code",
   "execution_count": null,
   "metadata": {},
   "outputs": [],
   "source": [
    "import sys\n",
    "from datetime import datetime\n",
    "\n",
    "import gspread\n",
    "from gspread_dataframe import get_as_dataframe, set_with_dataframe\n",
    "\n",
    "from harmony_automation import core as ha\n",
    "\n",
    "ha.login()\n"
   ]
  },
  {
   "cell_type": "markdown",
   "metadata": {},
   "source": [
    "## run"
   ]
  },
  {
   "cell_type": "code",
   "execution_count": 12,
   "metadata": {},
   "outputs": [
    {
     "ename": "SystemExit",
     "evalue": "0",
     "output_type": "error",
     "traceback": [
      "An exception has occurred, use %tb to see the full traceback.\n",
      "\u001b[1;31mSystemExit\u001b[0m\u001b[1;31m:\u001b[0m 0\n"
     ]
    },
    {
     "name": "stderr",
     "output_type": "stream",
     "text": [
      "c:\\Users\\ronal\\Anaconda3\\envs\\py39\\lib\\site-packages\\IPython\\core\\interactiveshell.py:3465: UserWarning: To exit: use 'exit', 'quit', or Ctrl-D.\n",
      "  warn(\"To exit: use 'exit', 'quit', or Ctrl-D.\", stacklevel=1)\n"
     ]
    }
   ],
   "source": [
    "sa = gspread.service_account(filename=ha.fp(\"../cfg/creds.json\"))\n",
    "input_sheet = sa.open(\"test_harmony_logs\").worksheet(\"input\")\n",
    "\n",
    "df = get_as_dataframe(input_sheet)\n",
    "m = df[\"ticket_str\"].notna()\n",
    "t_list = [x + \" \" for x in df[m][\"ticket_str\"].tolist()]\n",
    "\n",
    "df = ha.scraped_notes_to_df(t_list)\n",
    "df.to_excel(\n",
    "    \"scrape_output_\" + datetime.now().strftime(format=\"%Y%m%d_%H%M%S\") + \".xlsx\",\n",
    "    index=False,\n",
    ")\n",
    "\n",
    "sys.exit(0)\n"
   ]
  },
  {
   "cell_type": "code",
   "execution_count": 11,
   "metadata": {},
   "outputs": [
    {
     "name": "stdout",
     "output_type": "stream",
     "text": [
      "(5, 2)\n"
     ]
    },
    {
     "data": {
      "text/html": [
       "<div>\n",
       "<style scoped>\n",
       "    .dataframe tbody tr th:only-of-type {\n",
       "        vertical-align: middle;\n",
       "    }\n",
       "\n",
       "    .dataframe tbody tr th {\n",
       "        vertical-align: top;\n",
       "    }\n",
       "\n",
       "    .dataframe thead th {\n",
       "        text-align: right;\n",
       "    }\n",
       "</style>\n",
       "<table border=\"1\" class=\"dataframe\">\n",
       "  <thead>\n",
       "    <tr style=\"text-align: right;\">\n",
       "      <th></th>\n",
       "      <th>ticket_str</th>\n",
       "      <th>details</th>\n",
       "    </tr>\n",
       "  </thead>\n",
       "  <tbody>\n",
       "    <tr>\n",
       "      <th>0</th>\n",
       "      <td>240323541 2260073 -</td>\n",
       "      <td>2260073 -  ..   https://...14645902/logid/2408...</td>\n",
       "    </tr>\n",
       "    <tr>\n",
       "      <th>1</th>\n",
       "      <td>240322882 2270999 -</td>\n",
       "      <td>2270999 -  ..   https://...14646317/logid/2408...</td>\n",
       "    </tr>\n",
       "    <tr>\n",
       "      <th>2</th>\n",
       "      <td>240321442 4650641 -</td>\n",
       "      <td>4650641 -  ..   https://...14653457/logid/2408...</td>\n",
       "    </tr>\n",
       "    <tr>\n",
       "      <th>3</th>\n",
       "      <td>240317690 2069821 -</td>\n",
       "      <td>2069821 -  ..   https://...14638534/logid/2408...</td>\n",
       "    </tr>\n",
       "    <tr>\n",
       "      <th>4</th>\n",
       "      <td>240321357 2181402 -</td>\n",
       "      <td>2181402 -  ...   https://...14642195/logid/240...</td>\n",
       "    </tr>\n",
       "  </tbody>\n",
       "</table>\n",
       "</div>"
      ],
      "text/plain": [
       "              ticket_str                                            details\n",
       "0  240323541 2260073 -    2260073 -  ..   https://...14645902/logid/2408...\n",
       "1  240322882 2270999 -    2270999 -  ..   https://...14646317/logid/2408...\n",
       "2  240321442 4650641 -    4650641 -  ..   https://...14653457/logid/2408...\n",
       "3  240317690 2069821 -    2069821 -  ..   https://...14638534/logid/2408...\n",
       "4  240321357 2181402 -    2181402 -  ...   https://...14642195/logid/240..."
      ]
     },
     "execution_count": 11,
     "metadata": {},
     "output_type": "execute_result"
    }
   ],
   "source": [
    "df[\"details\"] = ha.load_edited_details()\n",
    "print(df.shape)\n",
    "assert len(df) == len(t_list)\n",
    "df.head()\n"
   ]
  },
  {
   "cell_type": "code",
   "execution_count": 13,
   "metadata": {},
   "outputs": [],
   "source": [
    "set_with_dataframe(input_sheet, df)\n",
    "ha.driver.quit()\n"
   ]
  },
  {
   "cell_type": "code",
   "execution_count": null,
   "metadata": {},
   "outputs": [],
   "source": []
  },
  {
   "cell_type": "code",
   "execution_count": null,
   "metadata": {},
   "outputs": [],
   "source": []
  },
  {
   "cell_type": "code",
   "execution_count": null,
   "metadata": {},
   "outputs": [],
   "source": []
  }
 ],
 "metadata": {
  "kernelspec": {
   "display_name": "py39",
   "language": "python",
   "name": "python3"
  },
  "language_info": {
   "codemirror_mode": {
    "name": "ipython",
    "version": 3
   },
   "file_extension": ".py",
   "mimetype": "text/x-python",
   "name": "python",
   "nbconvert_exporter": "python",
   "pygments_lexer": "ipython3",
   "version": "3.9.7"
  }
 },
 "nbformat": 4,
 "nbformat_minor": 2
}
